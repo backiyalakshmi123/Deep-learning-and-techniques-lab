{
  "nbformat": 4,
  "nbformat_minor": 0,
  "metadata": {
    "colab": {
      "provenance": [],
      "authorship_tag": "ABX9TyNjuhm8i29tar6u5G/TgFbw",
      "include_colab_link": true
    },
    "kernelspec": {
      "name": "python3",
      "display_name": "Python 3"
    },
    "language_info": {
      "name": "python"
    }
  },
  "cells": [
    {
      "cell_type": "markdown",
      "metadata": {
        "id": "view-in-github",
        "colab_type": "text"
      },
      "source": [
        "<a href=\"https://colab.research.google.com/github/backiyalakshmi123/Deep-learning-and-techniques-lab/blob/main/Encoder-Decoder%20model(EX%3ANO%3A10).ipynb\" target=\"_parent\"><img src=\"https://colab.research.google.com/assets/colab-badge.svg\" alt=\"Open In Colab\"/></a>"
      ]
    },
    {
      "cell_type": "code",
      "execution_count": 1,
      "metadata": {
        "colab": {
          "base_uri": "https://localhost:8080/"
        },
        "id": "tdRNptNzbVMv",
        "outputId": "c7f8bc41-16ec-4d80-9cac-ba5a71282f0e"
      },
      "outputs": [
        {
          "output_type": "stream",
          "name": "stdout",
          "text": [
            "English: how are you\n",
            "\u001b[1m1/1\u001b[0m \u001b[32m━━━━━━━━━━━━━━━━━━━━\u001b[0m\u001b[37m\u001b[0m \u001b[1m0s\u001b[0m 217ms/step\n",
            "\u001b[1m1/1\u001b[0m \u001b[32m━━━━━━━━━━━━━━━━━━━━\u001b[0m\u001b[37m\u001b[0m \u001b[1m1s\u001b[0m 620ms/step\n",
            "\u001b[1m1/1\u001b[0m \u001b[32m━━━━━━━━━━━━━━━━━━━━\u001b[0m\u001b[37m\u001b[0m \u001b[1m0s\u001b[0m 45ms/step\n",
            "\u001b[1m1/1\u001b[0m \u001b[32m━━━━━━━━━━━━━━━━━━━━\u001b[0m\u001b[37m\u001b[0m \u001b[1m0s\u001b[0m 43ms/step\n",
            "\u001b[1m1/1\u001b[0m \u001b[32m━━━━━━━━━━━━━━━━━━━━\u001b[0m\u001b[37m\u001b[0m \u001b[1m0s\u001b[0m 46ms/step\n",
            "\u001b[1m1/1\u001b[0m \u001b[32m━━━━━━━━━━━━━━━━━━━━\u001b[0m\u001b[37m\u001b[0m \u001b[1m0s\u001b[0m 44ms/step\n",
            "\u001b[1m1/1\u001b[0m \u001b[32m━━━━━━━━━━━━━━━━━━━━\u001b[0m\u001b[37m\u001b[0m \u001b[1m0s\u001b[0m 47ms/step\n",
            "\u001b[1m1/1\u001b[0m \u001b[32m━━━━━━━━━━━━━━━━━━━━\u001b[0m\u001b[37m\u001b[0m \u001b[1m0s\u001b[0m 42ms/step\n",
            "French :  comment comment comment comment comment comment\n"
          ]
        }
      ],
      "source": [
        "import numpy as np\n",
        "import tensorflow as tf\n",
        "from tensorflow.keras.models import Model\n",
        "from tensorflow.keras.layers import Input, LSTM, Embedding, Dense\n",
        "from tensorflow.keras.preprocessing.text import Tokenizer\n",
        "from tensorflow.keras.preprocessing.sequence import pad_sequences\n",
        "# Sample data\n",
        "english_sentences = ['hello', 'how are you', 'good morning']\n",
        "french_sentences = ['bonjour', 'comment ça va', 'bonjour']\n",
        "# Tokenization\n",
        "eng_tokenizer = Tokenizer()\n",
        "eng_tokenizer.fit_on_texts(english_sentences)\n",
        "eng_seq = eng_tokenizer.texts_to_sequences(english_sentences)\n",
        "eng_word_index = eng_tokenizer.word_index\n",
        "eng_vocab_size = len(eng_word_index) + 1\n",
        "fr_tokenizer = Tokenizer(filters='')\n",
        "fr_tokenizer.fit_on_texts(['<start> ' + sent + ' <end>' for sent in french_sentences])\n",
        "fr_seq = fr_tokenizer.texts_to_sequences(['<start> ' + sent + ' <end>' for sent in french_sentences])\n",
        "fr_word_index = fr_tokenizer.word_index\n",
        "fr_index_word = {i: w for w, i in fr_word_index.items()}\n",
        "fr_vocab_size = len(fr_word_index) + 1\n",
        "# Pad sequences\n",
        "max_eng_len = max(len(seq) for seq in eng_seq)\n",
        "max_fr_len = max(len(seq) for seq in fr_seq)\n",
        "encoder_input_data = pad_sequences(eng_seq, maxlen=max_eng_len, padding='post')\n",
        "decoder_input_data = pad_sequences([s[:-1] for s in fr_seq], maxlen=max_fr_len-1, padding='post')\n",
        "decoder_target_data = pad_sequences([s[1:] for s in fr_seq], maxlen=max_fr_len-1, padding='post')\n",
        "decoder_target_data = np.expand_dims(decoder_target_data, -1)\n",
        "# Model parameters\n",
        "embedding_dim = 64\n",
        "latent_dim = 128\n",
        "# Encoder\n",
        "encoder_inputs = Input(shape=(None,))\n",
        "enc_emb = Embedding(eng_vocab_size, embedding_dim)(encoder_inputs)\n",
        "encoder_lstm, state_h, state_c = LSTM(latent_dim, return_state=True)(enc_emb)\n",
        "encoder_states = [state_h, state_c]\n",
        "# Decoder\n",
        "decoder_inputs = Input(shape=(None,))\n",
        "dec_emb = Embedding(fr_vocab_size, embedding_dim)(decoder_inputs)\n",
        "decoder_lstm, _, _ = LSTM(latent_dim, return_sequences=True, return_state=True)(dec_emb,\n",
        "initial_state=encoder_states)\n",
        "decoder_dense = Dense(fr_vocab_size, activation='softmax')\n",
        "decoder_outputs = decoder_dense(decoder_lstm)\n",
        "# Combined model\n",
        "model = Model([encoder_inputs, decoder_inputs], decoder_outputs)\n",
        "model.compile(optimizer='adam', loss='sparse_categorical_crossentropy', metrics=['accuracy'])\n",
        "# Train\n",
        "model.fit([encoder_input_data, decoder_input_data], decoder_target_data, batch_size=2, epochs=300,\n",
        "verbose=0)\n",
        "# Inference models\n",
        "# Encoder model\n",
        "encoder_model_inf = Model(encoder_inputs, encoder_states)\n",
        "# Decoder model\n",
        "decoder_state_input_h = Input(shape=(latent_dim,))\n",
        "decoder_state_input_c = Input(shape=(latent_dim,))\n",
        "decoder_states_inputs = [decoder_state_input_h, decoder_state_input_c]\n",
        "dec_emb_inf = Embedding(fr_vocab_size, embedding_dim)(decoder_inputs)\n",
        "decoder_lstm_inf, state_h_inf, state_c_inf = LSTM(\n",
        "    latent_dim, return_sequences=True, return_state=True)(\n",
        "    dec_emb_inf, initial_state=decoder_states_inputs)\n",
        "decoder_states_inf = [state_h_inf, state_c_inf]\n",
        "decoder_outputs_inf = decoder_dense(decoder_lstm_inf)\n",
        "decoder_model_inf = Model(\n",
        "    [decoder_inputs] + decoder_states_inputs,\n",
        "    [decoder_outputs_inf] + decoder_states_inf)\n",
        "# Translation function\n",
        "def translate(input_text):\n",
        "    input_seq = eng_tokenizer.texts_to_sequences([input_text])\n",
        "    input_seq = pad_sequences(input_seq, maxlen=max_eng_len, padding='post')\n",
        "    states = encoder_model_inf.predict(input_seq)\n",
        "    target_seq = np.zeros((1, 1))\n",
        "    target_seq[0, 0] = fr_word_index['<start>']\n",
        "    stop_condition = False\n",
        "    translated_sentence = []\n",
        "    while not stop_condition:\n",
        "        output_tokens, h, c = decoder_model_inf.predict([target_seq] + states)\n",
        "        sampled_token_index = np.argmax(output_tokens[0, -1, :])\n",
        "        sampled_word = fr_index_word.get(sampled_token_index, '')\n",
        "\n",
        "        if sampled_word == '<end>' or len(translated_sentence) > max_fr_len:\n",
        "            stop_condition = True\n",
        "        else:\n",
        "            translated_sentence.append(sampled_word)\n",
        "        target_seq = np.zeros((1, 1))\n",
        "        target_seq[0, 0] = sampled_token_index\n",
        "        states = [h, c]\n",
        "    return ' '.join(translated_sentence)\n",
        "# Example\n",
        "print(\"English: how are you\")\n",
        "print(\"French : \", translate(\"how are you\"))"
      ]
    }
  ]
}