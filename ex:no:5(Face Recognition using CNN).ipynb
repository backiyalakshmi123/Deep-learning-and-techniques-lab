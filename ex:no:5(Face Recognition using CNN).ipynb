{
  "nbformat": 4,
  "nbformat_minor": 0,
  "metadata": {
    "colab": {
      "provenance": [],
      "authorship_tag": "ABX9TyN7rdnWY3oijqbDys6ErX/n",
      "include_colab_link": true
    },
    "kernelspec": {
      "name": "python3",
      "display_name": "Python 3"
    },
    "language_info": {
      "name": "python"
    }
  },
  "cells": [
    {
      "cell_type": "markdown",
      "metadata": {
        "id": "view-in-github",
        "colab_type": "text"
      },
      "source": [
        "<a href=\"https://colab.research.google.com/github/backiyalakshmi123/Deep-learning-and-techniques-lab/blob/main/ex%3Ano%3A5(Face%20Recognition%20using%20CNN).ipynb\" target=\"_parent\"><img src=\"https://colab.research.google.com/assets/colab-badge.svg\" alt=\"Open In Colab\"/></a>"
      ]
    },
    {
      "cell_type": "code",
      "execution_count": 1,
      "metadata": {
        "colab": {
          "base_uri": "https://localhost:8080/",
          "height": 920
        },
        "id": "ZRnVyhNPjp9z",
        "outputId": "f0c89809-fb52-46cc-effb-888e0292f8e2"
      },
      "outputs": [
        {
          "output_type": "stream",
          "name": "stdout",
          "text": [
            "Epoch 1/10\n"
          ]
        },
        {
          "output_type": "stream",
          "name": "stderr",
          "text": [
            "/usr/local/lib/python3.11/dist-packages/keras/src/layers/convolutional/base_conv.py:107: UserWarning: Do not pass an `input_shape`/`input_dim` argument to a layer. When using Sequential models, prefer using an `Input(shape)` object as the first layer in the model instead.\n",
            "  super().__init__(activity_regularizer=activity_regularizer, **kwargs)\n"
          ]
        },
        {
          "output_type": "stream",
          "name": "stdout",
          "text": [
            "\u001b[1m33/33\u001b[0m \u001b[32m━━━━━━━━━━━━━━━━━━━━\u001b[0m\u001b[37m\u001b[0m \u001b[1m5s\u001b[0m 78ms/step - accuracy: 0.3453 - loss: 1.8580 - val_accuracy: 0.4612 - val_loss: 1.5973\n",
            "Epoch 2/10\n",
            "\u001b[1m33/33\u001b[0m \u001b[32m━━━━━━━━━━━━━━━━━━━━\u001b[0m\u001b[37m\u001b[0m \u001b[1m4s\u001b[0m 107ms/step - accuracy: 0.4007 - loss: 1.7223 - val_accuracy: 0.4612 - val_loss: 1.6307\n",
            "Epoch 3/10\n",
            "\u001b[1m33/33\u001b[0m \u001b[32m━━━━━━━━━━━━━━━━━━━━\u001b[0m\u001b[37m\u001b[0m \u001b[1m2s\u001b[0m 72ms/step - accuracy: 0.3985 - loss: 1.7361 - val_accuracy: 0.4612 - val_loss: 1.6217\n",
            "Epoch 4/10\n",
            "\u001b[1m33/33\u001b[0m \u001b[32m━━━━━━━━━━━━━━━━━━━━\u001b[0m\u001b[37m\u001b[0m \u001b[1m3s\u001b[0m 76ms/step - accuracy: 0.3822 - loss: 1.7499 - val_accuracy: 0.4612 - val_loss: 1.6179\n",
            "Epoch 5/10\n",
            "\u001b[1m33/33\u001b[0m \u001b[32m━━━━━━━━━━━━━━━━━━━━\u001b[0m\u001b[37m\u001b[0m \u001b[1m2s\u001b[0m 71ms/step - accuracy: 0.3928 - loss: 1.7173 - val_accuracy: 0.4612 - val_loss: 1.5970\n",
            "Epoch 6/10\n",
            "\u001b[1m33/33\u001b[0m \u001b[32m━━━━━━━━━━━━━━━━━━━━\u001b[0m\u001b[37m\u001b[0m \u001b[1m3s\u001b[0m 76ms/step - accuracy: 0.3870 - loss: 1.7474 - val_accuracy: 0.4612 - val_loss: 1.6257\n",
            "Epoch 7/10\n",
            "\u001b[1m33/33\u001b[0m \u001b[32m━━━━━━━━━━━━━━━━━━━━\u001b[0m\u001b[37m\u001b[0m \u001b[1m4s\u001b[0m 123ms/step - accuracy: 0.3890 - loss: 1.7256 - val_accuracy: 0.4612 - val_loss: 1.6038\n",
            "Epoch 8/10\n",
            "\u001b[1m33/33\u001b[0m \u001b[32m━━━━━━━━━━━━━━━━━━━━\u001b[0m\u001b[37m\u001b[0m \u001b[1m2s\u001b[0m 70ms/step - accuracy: 0.3961 - loss: 1.7137 - val_accuracy: 0.4612 - val_loss: 1.6260\n",
            "Epoch 9/10\n",
            "\u001b[1m33/33\u001b[0m \u001b[32m━━━━━━━━━━━━━━━━━━━━\u001b[0m\u001b[37m\u001b[0m \u001b[1m3s\u001b[0m 70ms/step - accuracy: 0.3895 - loss: 1.7348 - val_accuracy: 0.4612 - val_loss: 1.6020\n",
            "Epoch 10/10\n",
            "\u001b[1m33/33\u001b[0m \u001b[32m━━━━━━━━━━━━━━━━━━━━\u001b[0m\u001b[37m\u001b[0m \u001b[1m3s\u001b[0m 70ms/step - accuracy: 0.4210 - loss: 1.6917 - val_accuracy: 0.4612 - val_loss: 1.6620\n",
            "\u001b[1m9/9\u001b[0m \u001b[32m━━━━━━━━━━━━━━━━━━━━\u001b[0m\u001b[37m\u001b[0m \u001b[1m0s\u001b[0m 22ms/step - accuracy: 0.5007 - loss: 1.6230\n",
            "Test Accuracy: 0.46\n",
            "\u001b[1m1/1\u001b[0m \u001b[32m━━━━━━━━━━━━━━━━━━━━\u001b[0m\u001b[37m\u001b[0m \u001b[1m0s\u001b[0m 109ms/step\n"
          ]
        },
        {
          "output_type": "display_data",
          "data": {
            "text/plain": [
              "<Figure size 640x480 with 1 Axes>"
            ],
            "image/png": "[encoded data removed]"
          },
          "metadata": {}
        },
        {
          "output_type": "stream",
          "name": "stderr",
          "text": [
            "WARNING:absl:You are saving your model as an HDF5 file via `model.save()` or `keras.saving.save_model(model)`. This file format is considered legacy. We recommend using instead the native Keras format, e.g. `model.save('my_model.keras')` or `keras.saving.save_model(model, 'my_model.keras')`. \n"
          ]
        }
      ],
      "source": [
        "import numpy as np\n",
        "import matplotlib.pyplot as plt\n",
        "from sklearn.datasets import fetch_lfw_people\n",
        "from sklearn.model_selection import train_test_split\n",
        "from sklearn.preprocessing import LabelEncoder\n",
        "from tensorflow.keras.utils import to_categorical\n",
        "from tensorflow.keras.models import Sequential\n",
        "from tensorflow.keras.layers import Conv2D, MaxPooling2D, Flatten, Dense, Dropout\n",
        "\n",
        "# Step 1: Load predefined LFW dataset (only people with at least 70 images)\n",
        "lfw_data = fetch_lfw_people(min_faces_per_person=70, resize=0.4)\n",
        "X = lfw_data.images\n",
        "y = lfw_data.target\n",
        "target_names = lfw_data.target_names\n",
        "n_classes = len(target_names)\n",
        "\n",
        "# Step 2: Preprocess the data\n",
        "# Normalize image pixels to [0, 1] and reshape for CNN input\n",
        "X = X.reshape(-1, X.shape[1], X.shape[2], 1) / 255.0\n",
        "# One-hot encode the labels\n",
        "y = to_categorical(y, n_classes)\n",
        "\n",
        "# Step 3: Train-test split\n",
        "X_train, X_test, y_train, y_test = train_test_split(\n",
        "    X, y, test_size=0.2, random_state=42\n",
        ")\n",
        "\n",
        "# Step 4: Build CNN model\n",
        "model = Sequential([\n",
        "    Conv2D(32, (3, 3), activation='relu', input_shape=X.shape[1:]),\n",
        "    MaxPooling2D(2, 2),\n",
        "    Conv2D(64, (3, 3), activation='relu'),\n",
        "    MaxPooling2D(2, 2),\n",
        "    Flatten(),\n",
        "    Dense(128, activation='relu'),\n",
        "    Dropout(0.5),\n",
        "    Dense(n_classes, activation='softmax')\n",
        "])\n",
        "\n",
        "# Step 5: Compile the model\n",
        "model.compile(optimizer='adam',\n",
        "              loss='categorical_crossentropy',\n",
        "              metrics=['accuracy'])\n",
        "\n",
        "# Step 6: Train the model\n",
        "history = model.fit(X_train, y_train,\n",
        "                    epochs=10,\n",
        "                    batch_size=32,\n",
        "                    validation_data=(X_test, y_test))\n",
        "\n",
        "# Step 7: Evaluate the model\n",
        "test_loss, test_accuracy = model.evaluate(X_test, y_test)\n",
        "print(f\"Test Accuracy: {test_accuracy:.2f}\")\n",
        "\n",
        "# Step 8: Predict and visualize\n",
        "def predict_and_display(index):\n",
        "    sample = X_test[index].reshape(1, X.shape[1], X.shape[2], 1)\n",
        "    prediction = model.predict(sample)\n",
        "    predicted_label = target_names[np.argmax(prediction)]\n",
        "    actual_label = target_names[np.argmax(y_test[index])]\n",
        "\n",
        "    plt.imshow(X_test[index].reshape(X.shape[1], X.shape[2]), cmap='gray')\n",
        "    plt.title(f\"Predicted: {predicted_label}\\nActual: {actual_label}\")\n",
        "    plt.axis('off')\n",
        "    plt.show()\n",
        "\n",
        "# Example: Display prediction for index 5\n",
        "predict_and_display(5)\n",
        "\n",
        "# Step 9: Save the model\n",
        "model.save(\"lfw_face_recognition_cnn.h5\")\n"
      ]
    }
  ]
}