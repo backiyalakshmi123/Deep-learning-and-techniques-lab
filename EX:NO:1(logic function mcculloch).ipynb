{
  "nbformat": 4,
  "nbformat_minor": 0,
  "metadata": {
    "colab": {
      "provenance": [],
      "authorship_tag": "ABX9TyMd+YiOUhlPUq1YjjlAZOkv",
      "include_colab_link": true
    },
    "kernelspec": {
      "name": "python3",
      "display_name": "Python 3"
    },
    "language_info": {
      "name": "python"
    }
  },
  "cells": [
    {
      "cell_type": "markdown",
      "metadata": {
        "id": "view-in-github",
        "colab_type": "text"
      },
      "source": [
        "<a href=\"https://colab.research.google.com/github/backiyalakshmi123/Deep-learning-and-techniques-lab/blob/main/EX%3ANO%3A1(logic%20function%20mcculloch).ipynb\" target=\"_parent\"><img src=\"https://colab.research.google.com/assets/colab-badge.svg\" alt=\"Open In Colab\"/></a>"
      ]
    },
    {
      "cell_type": "code",
      "execution_count": null,
      "metadata": {
        "colab": {
          "base_uri": "https://localhost:8080/"
        },
        "id": "ZyLhf8pb2MmM",
        "outputId": "5ac7f8bb-5f4c-4e1f-e3d6-c7fcf675e3bb"
      },
      "outputs": [
        {
          "output_type": "stream",
          "name": "stdout",
          "text": [
            "AND\n",
            "(0, 0) -> 0\n",
            "(0, 1) -> 0\n",
            "(1, 0) -> 0\n",
            "(1, 1) -> 1\n",
            "\n",
            "OR\n",
            "(0, 0) -> 0\n",
            "(0, 1) -> 1\n",
            "(1, 0) -> 1\n",
            "(1, 1) -> 1\n",
            "\n",
            "NOT\n",
            "0 -> 1\n",
            "1 -> 0\n",
            "\n",
            "NOR\n",
            "(0, 0) -> 1\n",
            "(0, 1) -> 0\n",
            "(1, 0) -> 0\n",
            "(1, 1) -> 0\n",
            "\n",
            "XOR\n",
            "(0, 0) -> 0\n",
            "(0, 1) -> 1\n",
            "(1, 0) -> 1\n",
            "(1, 1) -> 0\n"
          ]
        }
      ],
      "source": [
        "# AND Gate\n",
        "def AND(x1, x2):\n",
        "    if x1 == 1 and x2 == 1:\n",
        "        return 1\n",
        "    else:\n",
        "        return 0\n",
        "\n",
        "# OR Gate\n",
        "def OR(x1, x2):\n",
        "    if x1 == 1 or x2 == 1:\n",
        "        return 1\n",
        "    else:\n",
        "        return 0\n",
        "\n",
        "# NOT Gate\n",
        "def NOT(x1):\n",
        "    return 1 if x1 == 0 else 0\n",
        "\n",
        "# NOR Gate\n",
        "def NOR(x1, x2):\n",
        "    if x1 == 0 and x2 == 0:\n",
        "        return 1\n",
        "    else:\n",
        "        return 0\n",
        "\n",
        "# XOR Gate\n",
        "def XOR(x1, x2):\n",
        "    if x1 != x2:\n",
        "        return 1\n",
        "    else:\n",
        "        return 0\n",
        "\n",
        "# Testing\n",
        "print(\"AND\")\n",
        "for x in [(0, 0), (0, 1), (1, 0), (1, 1)]:\n",
        "    print(f\"{x} -> {AND(*x)}\")\n",
        "\n",
        "print(\"\\nOR\")\n",
        "for x in [(0, 0), (0, 1), (1, 0), (1, 1)]:\n",
        "    print(f\"{x} -> {OR(*x)}\")\n",
        "\n",
        "print(\"\\nNOT\")\n",
        "for x in [0, 1]:\n",
        "    print(f\"{x} -> {NOT(x)}\")\n",
        "\n",
        "print(\"\\nNOR\")\n",
        "for x in [(0, 0), (0, 1), (1, 0), (1, 1)]:\n",
        "    print(f\"{x} -> {NOR(*x)}\")\n",
        "\n",
        "print(\"\\nXOR\")\n",
        "for x in [(0, 0), (0, 1), (1, 0), (1, 1)]:\n",
        "    print(f\"{x} -> {XOR(*x)}\")"
      ]
    }
  ]
}